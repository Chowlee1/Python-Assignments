{
 "cells": [
  {
   "cell_type": "code",
   "execution_count": 1,
   "id": "5e0a56ab",
   "metadata": {},
   "outputs": [],
   "source": [
    "import pymysql"
   ]
  },
  {
   "cell_type": "code",
   "execution_count": 2,
   "id": "6d4163ad",
   "metadata": {},
   "outputs": [],
   "source": [
    "mydb = pymysql.connect(\n",
    "    host = 'localhost',\n",
    "    user = 'root',\n",
    "    port = int(3307),\n",
    "    password = 'Utuama30',\n",
    "    database = 'footballmanagementsysytem'\n",
    ")\n",
    "\n",
    "mycursor = mydb.cursor()"
   ]
  },
  {
   "cell_type": "code",
   "execution_count": 3,
   "id": "2429fce6",
   "metadata": {},
   "outputs": [
    {
     "data": {
      "text/plain": [
       "10"
      ]
     },
     "execution_count": 3,
     "metadata": {},
     "output_type": "execute_result"
    }
   ],
   "source": [
    "mycursor.execute('show columns from englishpremier_league')"
   ]
  },
  {
   "cell_type": "code",
   "execution_count": 4,
   "id": "9088d2b1",
   "metadata": {},
   "outputs": [],
   "source": [
    "sql = 'insert into englishpremier_league(PositionalID,Team,matchPlayed,Win,Draw,Loss,GoalFor,GoalAgainst,GoalDiffrence,Point) values(%s,%s,%s,%s,%s,%s,%s,%s,%s,%s)'\n",
    "val = [(1, 'Arsenal', 3,3,0,0,9,2,7,9),\n",
    "      (2,'Manchester City',3,2,1,0,9,3,6,7),\n",
    "      (3,'Leeds United', 3,2,1,0,7,3,4,7),\n",
    "      (4,'Brigthon and Hove ALbion',4,2,2,0,4,1,3,8),\n",
    "      (5,'Tottenham Hotspur',3,2,1,0,7,3,4,7),\n",
    "      (6,'Crystal Palace',4,2,1,1,5,4,1,7),\n",
    "      (7,'Manchester United', 4,2,0,2,4,7,-3,6),\n",
    "      (8,'Brentford',4,1,2,1,8,5,3,5),\n",
    "      (9,'Newcastle United',3,1,2,0,5,3,2,5),\n",
    "      (10,'Liverpool',4,1,2,1,6,5,1,5)]\n",
    "mycursor.executemany(sql,val)\n",
    "mydb.commit()\n",
    "        "
   ]
  },
  {
   "cell_type": "code",
   "execution_count": 5,
   "id": "671b2e08",
   "metadata": {},
   "outputs": [
    {
     "name": "stdout",
     "output_type": "stream",
     "text": [
      "(1, 'Arsenal', 3, 3, 0, 0, 9, 2, 7, 9)\n",
      "(2, 'Manchester City', 3, 2, 1, 0, 9, 3, 6, 7)\n",
      "(3, 'Leeds United', 3, 2, 1, 0, 7, 3, 4, 7)\n",
      "(4, 'Brigthon and Hove ALbion', 4, 2, 2, 0, 4, 1, 3, 8)\n",
      "(5, 'Tottenham Hotspur', 3, 2, 1, 0, 7, 3, 4, 7)\n",
      "(6, 'Crystal Palace', 4, 2, 1, 1, 5, 4, 1, 7)\n",
      "(7, 'Manchester United', 4, 2, 0, 2, 4, 7, -3, 6)\n",
      "(8, 'Brentford', 4, 1, 2, 1, 8, 5, 3, 5)\n",
      "(9, 'Newcastle United', 3, 1, 2, 0, 5, 3, 2, 5)\n",
      "(10, 'Liverpool', 4, 1, 2, 1, 6, 5, 1, 5)\n"
     ]
    }
   ],
   "source": [
    "mycursor.execute('select * from englishpremier_league')\n",
    "for x in mycursor:\n",
    "    print(x)"
   ]
  },
  {
   "cell_type": "code",
   "execution_count": 6,
   "id": "aca147fb",
   "metadata": {},
   "outputs": [
    {
     "name": "stdout",
     "output_type": "stream",
     "text": [
      "(1, 'Arsenal', 4, 4, 0, 0, 11, 2, 9, 12)\n",
      "(2, 'Manchester City', 3, 2, 1, 0, 9, 3, 6, 7)\n",
      "(3, 'Leeds United', 3, 2, 1, 0, 7, 3, 4, 7)\n",
      "(4, 'Brigthon and Hove ALbion', 4, 2, 2, 0, 4, 1, 3, 8)\n",
      "(5, 'Tottenham Hotspur', 3, 2, 1, 0, 7, 3, 4, 7)\n",
      "(6, 'Crystal Palace', 4, 2, 1, 1, 5, 4, 1, 7)\n",
      "(7, 'Manchester United', 4, 2, 0, 2, 4, 7, -3, 6)\n",
      "(8, 'Brentford', 4, 1, 2, 1, 8, 5, 3, 5)\n",
      "(9, 'Newcastle United', 3, 1, 2, 0, 5, 3, 2, 5)\n",
      "(10, 'Liverpool', 4, 1, 2, 1, 6, 5, 1, 5)\n"
     ]
    }
   ],
   "source": [
    "mycursor.execute('update englishpremier_league set MatchPlayed = 4 where PositionalID=1')\n",
    "mycursor.execute('update englishpremier_league set Win = 4 where PositionalID=1')\n",
    "mycursor.execute('update englishpremier_league set GoalFor = 11 where PositionalID=1')\n",
    "mycursor.execute('update englishpremier_league set GoalDiffrence = 9 where PositionalID=1')\n",
    "mycursor.execute('update englishpremier_league set Point = 12 where PositionalID=1')\n",
    "\n",
    "mycursor.execute('select * from englishpremier_league')\n",
    "for x in mycursor:\n",
    "    print(x)"
   ]
  },
  {
   "cell_type": "code",
   "execution_count": 7,
   "id": "09864d11",
   "metadata": {},
   "outputs": [
    {
     "name": "stdout",
     "output_type": "stream",
     "text": [
      "(1, 'Arsenal', 4, 4, 0, 0, 11, 2, 9, 12)\n",
      "(2, 'Manchester City', 3, 2, 1, 0, 9, 3, 6, 7)\n",
      "(3, 'Leeds United', 3, 2, 1, 0, 7, 3, 4, 7)\n",
      "(4, 'Brigthon and Hove ALbion', 4, 2, 2, 0, 4, 1, 3, 8)\n",
      "(5, 'Tottenham Hotspur', 3, 2, 1, 0, 7, 3, 4, 7)\n",
      "(6, 'Crystal Palace', 4, 2, 1, 1, 5, 4, 1, 7)\n",
      "(7, 'Manchester United', 4, 2, 0, 2, 4, 7, -3, 6)\n",
      "(8, 'Brentford', 4, 1, 2, 1, 8, 5, 3, 5)\n",
      "(9, 'Newcastle United', 3, 1, 2, 0, 5, 3, 2, 5)\n"
     ]
    }
   ],
   "source": [
    "mycursor.execute('delete from englishpremier_league where PositionalID=10')\n",
    "\n",
    "mycursor.execute('select * from englishpremier_league')\n",
    "for x in mycursor:\n",
    "    print(x)"
   ]
  },
  {
   "cell_type": "code",
   "execution_count": 8,
   "id": "65e4e7c7",
   "metadata": {},
   "outputs": [
    {
     "name": "stdout",
     "output_type": "stream",
     "text": [
      "('englishpremier_league', 0, 'PRIMARY', 1, 'PositionalID', 'A', 0, None, None, '', 'BTREE', '', '', 'YES', None)\n",
      "('englishpremier_league', 1, 'playedmatch', 1, 'matchPlayed', 'A', 2, None, None, '', 'BTREE', '', '', 'YES', None)\n"
     ]
    }
   ],
   "source": [
    "mycursor.execute('create index playedmatch on englishpremier_league(matchPLayed)')\n",
    "\n",
    "mycursor.execute('show indexes from englishpremier_league')\n",
    "for x in mycursor:\n",
    "    print(x)"
   ]
  },
  {
   "cell_type": "code",
   "execution_count": 11,
   "id": "5c3985a3",
   "metadata": {},
   "outputs": [
    {
     "data": {
      "text/plain": [
       "0"
      ]
     },
     "execution_count": 11,
     "metadata": {},
     "output_type": "execute_result"
    }
   ],
   "source": [
    "mycursor.execute('drop table French_league')"
   ]
  },
  {
   "cell_type": "code",
   "execution_count": 15,
   "id": "cc8d5f23",
   "metadata": {},
   "outputs": [],
   "source": [
    "mycursor.execute('create table French_league(PositionalID int not null primary key auto_increment,Team varchar(255) not null,matchPlayed int not null,Win int not null,Draw int not null,Loss int not null,GoalFor int not null,GoalAgainst int not null,GoalDiffrence int not null,Point int not null)')"
   ]
  },
  {
   "cell_type": "code",
   "execution_count": 14,
   "id": "e6805b13",
   "metadata": {},
   "outputs": [],
   "source": [
    "sql = 'insert into French_league(PositionalID,Team,matchPlayed,Win,Draw,Loss,GoalFor,GoalAgainst,GoalDiffrence,Point) values(%s,%s,%s,%s,%s,%s,%s,%s,%s,%s)'\n",
    "val = [(1, 'PSG', 4,3,1,0,18,4,14,10),\n",
    "      (2,'Marseille',4,3,1,0,10,3,7,10),\n",
    "      (3,'Lens', 4,3,1,0,9,4,5,10),\n",
    "      (4,'Lyon',3,2,1,1,6,7,-1,7),\n",
    "      (5, 'Lorient',3,2,1,0,5,3,2,7),\n",
    "      (6,'Lille',4,2,1,1,9,10,-1,7),\n",
    "      (7,'Auxerre',4,2,1,1,6,7,-1,7),\n",
    "      (8,'Montpellier',4,2,0,2,13,9,4,6),\n",
    "      (9,'Clermont Foot', 4,2,0,2,6,9,-3,6),\n",
    "      (10,'Toulouse',4,1,2,1,7,6,1,5),\n",
    "      (11,'Nantes',4,1,2,1,5,4,1,5),\n",
    "      (12,'Monaco',4,1,2,1,5,7,-2,5),\n",
    "      (13,'Rennes',4,1,1,2,4,5,-1,4),\n",
    "      (14,'Brest',4,1,1,2,6,12,-6,4),\n",
    "      (15,'Troyes',4,1,0,3,6,11,-5,3),\n",
    "      (16,'Strausbourg',4,0,2,2,3,5,-2,2),\n",
    "      (17,'Angers',4,0,2,2,2,6,-4,2),\n",
    "      (18,'Nice',4,0,2,2,2,6,-4,2),\n",
    "      (19,'Reims',4,0,2,2,5,10,-5,2),\n",
    "      (20,'AC Ajaccio',4,0,1,3,3,7,-4,1)]\n",
    "mycursor.executemany(sql,val)\n",
    "mydb.commit()\n",
    "        "
   ]
  },
  {
   "cell_type": "code",
   "execution_count": 16,
   "id": "1647ca10",
   "metadata": {},
   "outputs": [
    {
     "data": {
      "text/plain": [
       "0"
      ]
     },
     "execution_count": 16,
     "metadata": {},
     "output_type": "execute_result"
    }
   ],
   "source": [
    "mycursor.execute('create table Italian_league(PositionalID int not null primary key auto_increment,Team varchar(255) not null,matchPlayed int not null,Win int not null,Draw int not null,Loss int not null,GoalFor int not null,GoalAgainst int not null,GoalDiffrence int not null,Point int not null)')"
   ]
  },
  {
   "cell_type": "code",
   "execution_count": 17,
   "id": "78e3b110",
   "metadata": {},
   "outputs": [],
   "source": [
    "sql = 'insert into Italian_league(PositionalID,Team,matchPlayed,Win,Draw,Loss,GoalFor,GoalAgainst,GoalDiffrence,Point) values(%s,%s,%s,%s,%s,%s,%s,%s,%s,%s)'\n",
    "val = [(1, 'Napoli', 4,3,1,0,18,4,14,10),\n",
    "      (2,'AC Milan',4,3,1,0,10,3,7,10),\n",
    "      (3,'Lazio', 4,3,1,0,9,4,5,10),\n",
    "      (4,'Atalanta',3,2,1,1,6,7,-1,7),\n",
    "      (5, 'Torino',3,2,1,0,5,3,2,7),\n",
    "      (6,'Roma',4,2,1,1,9,10,-1,7),\n",
    "      (7,'Inter',4,2,1,1,6,7,-1,7),\n",
    "      (8,'Juventus',4,2,0,2,13,9,4,6),\n",
    "      (9,'Fiorentina', 4,2,0,2,6,9,-3,6),\n",
    "      (10,'Salernitana',4,1,2,1,7,6,1,5),\n",
    "      (11,'Udinese',4,1,2,1,5,4,1,5),\n",
    "      (12,'Sassuolo',4,1,2,1,5,7,-2,5),\n",
    "      (13,'Spezia',4,1,1,2,4,5,-1,4),\n",
    "      (14,'Empoli',4,1,1,2,6,12,-6,4),\n",
    "      (15,'Lecce',4,1,0,3,6,11,-5,3),\n",
    "      (16,'Bologna',4,0,2,2,3,5,-2,2),\n",
    "      (17,'Verona',4,0,2,2,2,6,-4,2),\n",
    "      (18,'Sampdoria',4,0,2,2,2,6,-4,2),\n",
    "      (19,'Cremonese',4,0,2,2,5,10,-5,2),\n",
    "      (20,'Monza',4,0,1,3,3,7,-4,1)]\n",
    "mycursor.executemany(sql,val)\n",
    "mydb.commit()\n",
    "        "
   ]
  },
  {
   "cell_type": "code",
   "execution_count": 18,
   "id": "dc0cc514",
   "metadata": {},
   "outputs": [
    {
     "data": {
      "text/plain": [
       "0"
      ]
     },
     "execution_count": 18,
     "metadata": {},
     "output_type": "execute_result"
    }
   ],
   "source": [
    "mycursor.execute('create table Spanish_league(PositionalID int not null primary key auto_increment,Team varchar(255) not null,matchPlayed int not null,Win int not null,Draw int not null,Loss int not null,GoalFor int not null,GoalAgainst int not null,GoalDiffrence int not null,Point int not null)')"
   ]
  },
  {
   "cell_type": "code",
   "execution_count": 19,
   "id": "42a57cc6",
   "metadata": {},
   "outputs": [],
   "source": [
    "sql = 'insert into Spanish_league(PositionalID,Team,matchPlayed,Win,Draw,Loss,GoalFor,GoalAgainst,GoalDiffrence,Point) values(%s,%s,%s,%s,%s,%s,%s,%s,%s,%s)'\n",
    "val = [(1, 'Real Madrid', 4,3,1,0,18,4,14,10),\n",
    "      (2,'Real Betis',4,3,1,0,10,3,7,10),\n",
    "      (3,'Barcelona', 4,3,1,0,9,4,5,10),\n",
    "      (4,'Atletic Bilbao',3,2,1,1,6,7,-1,7),\n",
    "      (5, 'Villareal',3,2,1,0,5,3,2,7),\n",
    "      (6,'Atletico Madrid',4,2,1,1,9,10,-1,7),\n",
    "      (7,'Osasuna',4,2,1,1,6,7,-1,7),\n",
    "      (8,'Real Sociedad',4,2,0,2,13,9,4,6),\n",
    "      (9,'Mallorca', 4,2,0,2,6,9,-3,6),\n",
    "      (10,'Akmeria',4,1,2,1,7,6,1,5),\n",
    "      (11,'Rayo Vallecano',4,1,2,1,5,4,1,5),\n",
    "      (12,'Celta Vigo',4,1,2,1,5,7,-2,5),\n",
    "      (13,'Girona',4,1,1,2,4,5,-1,4),\n",
    "      (14,'Valencia',4,1,1,2,6,12,-6,4),\n",
    "      (15,'Sevilla',4,1,0,3,6,11,-5,3),\n",
    "      (16,'Espanyol',4,0,2,2,3,5,-2,2),\n",
    "      (17,'Elche',4,0,2,2,2,6,-4,2),\n",
    "      (18,'Getafe',4,0,2,2,2,6,-4,2),\n",
    "      (19,'Real Valladolid',4,0,2,2,5,10,-5,2),\n",
    "      (20,'Cadiz',4,0,1,3,3,7,-4,1)]\n",
    "mycursor.executemany(sql,val)\n",
    "mydb.commit()\n",
    "        "
   ]
  },
  {
   "cell_type": "code",
   "execution_count": null,
   "id": "72cbadc3",
   "metadata": {},
   "outputs": [],
   "source": []
  }
 ],
 "metadata": {
  "kernelspec": {
   "display_name": "Python 3 (ipykernel)",
   "language": "python",
   "name": "python3"
  },
  "language_info": {
   "codemirror_mode": {
    "name": "ipython",
    "version": 3
   },
   "file_extension": ".py",
   "mimetype": "text/x-python",
   "name": "python",
   "nbconvert_exporter": "python",
   "pygments_lexer": "ipython3",
   "version": "3.9.12"
  }
 },
 "nbformat": 4,
 "nbformat_minor": 5
}
